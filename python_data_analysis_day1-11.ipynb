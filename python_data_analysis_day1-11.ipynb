{
 "cells": [
  {
   "cell_type": "markdown",
   "metadata": {},
   "source": [
    "---\n",
    "# Day 5\n",
    "# While Loop\n"
   ]
  },
  {
   "cell_type": "code",
   "execution_count": 36,
   "metadata": {},
   "outputs": [],
   "source": [
    "# # concept of while loop\n",
    "# i = 0\n",
    "# n = 100\n",
    "# while i<n:\n",
    "#     print(i)\n",
    "#     i = i+10"
   ]
  },
  {
   "cell_type": "code",
   "execution_count": 37,
   "metadata": {},
   "outputs": [],
   "source": [
    "# x = int(input(\"Enter the value\"))\n",
    "# i = 1\n",
    "# while i <= 10:\n",
    "#     print(x*i)\n",
    "#     i = i+1\n",
    "    \n",
    "    "
   ]
  },
  {
   "cell_type": "code",
   "execution_count": 38,
   "metadata": {},
   "outputs": [],
   "source": [
    "# # infinite loop\n",
    "# age = 32\n",
    "# while age<18:\n",
    "#     print(\"you can vote\")"
   ]
  },
  {
   "cell_type": "code",
   "execution_count": 39,
   "metadata": {},
   "outputs": [],
   "source": [
    "# using else condition in the while loop\n",
    "# count = 0\n",
    "# while(count<25):\n",
    "#     count = count + 1\n",
    "#     print(\"Hello Students\")\n",
    "# else:\n",
    "#     print(\"this is the else block\")"
   ]
  },
  {
   "cell_type": "code",
   "execution_count": 40,
   "metadata": {},
   "outputs": [],
   "source": [
    "# for loop\n",
    "# fruits = ['apple','banana','cherry']\n",
    "# for x in fruits:\n",
    "#     print(x)"
   ]
  },
  {
   "cell_type": "code",
   "execution_count": 41,
   "metadata": {},
   "outputs": [],
   "source": [
    "# looping through a string\n",
    "# for x in 'cherry':\n",
    "#     print(x)"
   ]
  },
  {
   "cell_type": "code",
   "execution_count": 42,
   "metadata": {},
   "outputs": [],
   "source": [
    "# for x in range(3,25,4):\n",
    "#     print(x)\n"
   ]
  },
  {
   "cell_type": "markdown",
   "metadata": {},
   "source": [
    "---\n",
    "# Day - 6\n",
    "## User Define Function"
   ]
  },
  {
   "cell_type": "code",
   "execution_count": 43,
   "metadata": {},
   "outputs": [],
   "source": [
    "# creating a user define function\n",
    "\n",
    "# def my_function():\n",
    "#     print(\"Hello class\")\n",
    "#     print(\"we are learning python\")"
   ]
  },
  {
   "cell_type": "code",
   "execution_count": 44,
   "metadata": {},
   "outputs": [],
   "source": [
    "# my_function()"
   ]
  },
  {
   "cell_type": "code",
   "execution_count": 45,
   "metadata": {},
   "outputs": [],
   "source": [
    "# def my_contact():\n",
    "#     print(\"Contact details of school:\")\n",
    "#     print(\"Delhi Public School:\")\n",
    "#     print(\"Address: 123, ABC Street, Delhi.\")\n",
    "#     print(\"Phone number: +91-11-4567890123.\")\n",
    "#     print(\"Email address: delhipublicschool@gmail.com\")\n",
    "\n",
    "    "
   ]
  },
  {
   "cell_type": "code",
   "execution_count": 46,
   "metadata": {},
   "outputs": [],
   "source": [
    "\n",
    "# for i in range(1):\n",
    "#     a = input(\"Name of the School\")\n",
    "#     b = int(input(\"enter the marks of maths\"))\n",
    "#     c  = int(input(\"enter the marks of science\"))\n",
    "#     b = int(input(\"enter the marks of social\"))\n",
    "\n",
    "#     print()\n",
    "#     my_contact()\n",
    "\n",
    "    "
   ]
  },
  {
   "cell_type": "markdown",
   "metadata": {},
   "source": [
    "# Arguments"
   ]
  },
  {
   "cell_type": "code",
   "execution_count": 47,
   "metadata": {},
   "outputs": [],
   "source": [
    "# def my_function(fname):\n",
    "#     print(fname + \" \" + \"sharma\")\n",
    "\n",
    "# my_function('Puja')\n",
    "# my_function('Priya')\n",
    "# my_function('Prashant')"
   ]
  },
  {
   "cell_type": "code",
   "execution_count": 48,
   "metadata": {},
   "outputs": [],
   "source": [
    "# def my_function(fname,lname):\n",
    "#     print(fname + \" \" + lname)\n"
   ]
  },
  {
   "cell_type": "code",
   "execution_count": 49,
   "metadata": {},
   "outputs": [],
   "source": [
    "# my_function(\"Shreya\",\"Verma\")"
   ]
  },
  {
   "cell_type": "code",
   "execution_count": 50,
   "metadata": {},
   "outputs": [],
   "source": [
    "# write a program to calculate the electricity bill\n",
    "# if 700 unit used : pay Rs 10 for each unit\n",
    "# if 1000 unit used : pay Rs 15 for each unit\n",
    "# if  more then 1000 unit used : pay Rs 20 for each unit"
   ]
  },
  {
   "cell_type": "code",
   "execution_count": 51,
   "metadata": {},
   "outputs": [],
   "source": [
    "# def electricity_bill(n):\n",
    "#     if n < 500:\n",
    "#         print('Your bill is Rs : ', n*5)\n",
    "#     elif n > 500 and n <= 700:\n",
    "#         print(\"Your bill is Rs :\", n*10)\n",
    "#     elif n>700 and n<=1000:\n",
    "#         print(\"Your bill is Rs : \", n*15)\n",
    "#     elif n>1000:\n",
    "#         print(\"Your bill is Rs :\",n*20)"
   ]
  },
  {
   "cell_type": "code",
   "execution_count": 52,
   "metadata": {},
   "outputs": [],
   "source": [
    "# for i in range(3):\n",
    "#     a = input(\"enter the name of the customer\")\n",
    "#     b = int(input(\"enter the unit of electricity you have used\"))\n",
    "#     electricity_bill(n)"
   ]
  },
  {
   "cell_type": "code",
   "execution_count": 53,
   "metadata": {},
   "outputs": [],
   "source": [
    "# This function will calculate the total cost of electricity usage\n",
    "# def calculate_electricity_bill(unit_cost, units_used):\n",
    "#     total_cost = unit_cost * units_used\n",
    "#     return total_cost\n",
    "\n",
    "# # This function will display the details of the bill\n",
    "# def display_bill_details(customer_name, units_used, unit_cost, total_cost):\n",
    "#     print(f\"Customer Name: {customer_name}\")\n",
    "#     print(f\"Units Used: {units_used}\")\n",
    "#     print(f\"Unit Cost: {unit_cost}\")\n",
    "#     print(f\"Total Cost: {total_cost}\")\n",
    "\n",
    "# # Input Section\n",
    "# customer_name = input(\"Enter Customer Name: \")\n",
    "# unit_cost = float(input(\"Enter Unit Cost: \"))\n",
    "# units_used = int(input(\"Enter Units Used: \"))\n",
    "\n",
    "# # Calculate the total cost\n",
    "# total_cost = calculate_electricity_bill(unit_cost, units_used)\n",
    "\n",
    "# # Display the bill details\n",
    "# display_bill_details(customer_name, units_used, unit_cost, total_cost)"
   ]
  },
  {
   "cell_type": "markdown",
   "metadata": {},
   "source": [
    "---\n",
    "# Day 07\n",
    "# Indexing of strings"
   ]
  },
  {
   "cell_type": "code",
   "execution_count": 54,
   "metadata": {},
   "outputs": [
    {
     "name": "stdout",
     "output_type": "stream",
     "text": [
      "u\n",
      "S\n",
      "o\n"
     ]
    }
   ],
   "source": [
    "a = 'Hello Students'\n",
    "b = 'How your studies going on'\n",
    "# for i in a:\n",
    "#     print(i)\n",
    "print(a[-6])\n",
    "print(a[6])\n",
    "print(b[5])\n"
   ]
  },
  {
   "cell_type": "markdown",
   "metadata": {},
   "source": [
    "# Slicing in strings"
   ]
  },
  {
   "cell_type": "code",
   "execution_count": 55,
   "metadata": {},
   "outputs": [
    {
     "name": "stdout",
     "output_type": "stream",
     "text": [
      "Hello\n",
      "Students\n",
      "how\n",
      "are \n",
      "you\n"
     ]
    }
   ],
   "source": [
    "s = 'Hello Students how are you'\n",
    "print(s[0:5])\n",
    "print(s[6:14])\n",
    "print(s[15:18])\n",
    "print(s[19:23])\n",
    "print(s[23:26])"
   ]
  },
  {
   "cell_type": "markdown",
   "metadata": {},
   "source": [
    "# Reverse Function"
   ]
  },
  {
   "cell_type": "code",
   "execution_count": 56,
   "metadata": {},
   "outputs": [
    {
     "name": "stdout",
     "output_type": "stream",
     "text": [
      "uoy era woh stnedutS olleH\n"
     ]
    }
   ],
   "source": [
    "print(s[::-1])"
   ]
  },
  {
   "cell_type": "markdown",
   "metadata": {},
   "source": [
    "# Len Finction"
   ]
  },
  {
   "cell_type": "code",
   "execution_count": 57,
   "metadata": {},
   "outputs": [
    {
     "data": {
      "text/plain": [
       "65"
      ]
     },
     "execution_count": 57,
     "metadata": {},
     "output_type": "execute_result"
    }
   ],
   "source": [
    "# finding the length of string\n",
    "\n",
    "len(a) + len(b) + len(s)"
   ]
  },
  {
   "cell_type": "markdown",
   "metadata": {},
   "source": [
    "# Upper Method"
   ]
  },
  {
   "cell_type": "code",
   "execution_count": 58,
   "metadata": {},
   "outputs": [
    {
     "name": "stdout",
     "output_type": "stream",
     "text": [
      "HELLO STUDENTS HOW ARE YOU\n"
     ]
    }
   ],
   "source": [
    "print(s.upper())"
   ]
  },
  {
   "cell_type": "markdown",
   "metadata": {},
   "source": [
    "# Lower Method"
   ]
  },
  {
   "cell_type": "code",
   "execution_count": 59,
   "metadata": {},
   "outputs": [
    {
     "name": "stdout",
     "output_type": "stream",
     "text": [
      "hello students how are you\n"
     ]
    }
   ],
   "source": [
    "print(s.lower())"
   ]
  },
  {
   "cell_type": "markdown",
   "metadata": {},
   "source": [
    "# Capitilize Function"
   ]
  },
  {
   "cell_type": "code",
   "execution_count": 60,
   "metadata": {},
   "outputs": [
    {
     "name": "stdout",
     "output_type": "stream",
     "text": [
      "Hello students how are you\n"
     ]
    }
   ],
   "source": [
    "print(s.capitalize())"
   ]
  },
  {
   "cell_type": "markdown",
   "metadata": {},
   "source": [
    "# Replace Function"
   ]
  },
  {
   "cell_type": "code",
   "execution_count": 61,
   "metadata": {},
   "outputs": [
    {
     "name": "stdout",
     "output_type": "stream",
     "text": [
      "Hello students how are you\n"
     ]
    }
   ],
   "source": [
    " s = \"Hello students how are you\"\n",
    "print(s.replace(\"hello\",'bye'))"
   ]
  },
  {
   "cell_type": "code",
   "execution_count": 62,
   "metadata": {},
   "outputs": [
    {
     "name": "stdout",
     "output_type": "stream",
     "text": [
      "Brother how are you\n"
     ]
    }
   ],
   "source": [
    "a = \"hello how are you\"\n",
    "print(a.replace(\"hello\" , \"Brother\"))"
   ]
  },
  {
   "cell_type": "markdown",
   "metadata": {},
   "source": [
    "# Find Method"
   ]
  },
  {
   "cell_type": "code",
   "execution_count": 63,
   "metadata": {},
   "outputs": [
    {
     "name": "stdout",
     "output_type": "stream",
     "text": [
      "10\n"
     ]
    }
   ],
   "source": [
    "a = 'python is great'\n",
    "b = a.find('g')\n",
    "print(b)"
   ]
  },
  {
   "cell_type": "code",
   "execution_count": 64,
   "metadata": {},
   "outputs": [
    {
     "name": "stdout",
     "output_type": "stream",
     "text": [
      "13\n"
     ]
    }
   ],
   "source": [
    "a = 'python is great'\n",
    "b = a.find('a')\n",
    "print(b)"
   ]
  },
  {
   "cell_type": "markdown",
   "metadata": {},
   "source": [
    "--------\n",
    "# Day - 8\n",
    "\n",
    "# Python List"
   ]
  },
  {
   "cell_type": "code",
   "execution_count": 65,
   "metadata": {},
   "outputs": [
    {
     "name": "stdout",
     "output_type": "stream",
     "text": [
      "['apple', 'banana', 'cherry']\n",
      "<class 'list'>\n"
     ]
    }
   ],
   "source": [
    "# create a list \n",
    "my_list = ['apple','banana','cherry']\n",
    "print(my_list)\n",
    "print(type(my_list))"
   ]
  },
  {
   "cell_type": "code",
   "execution_count": 66,
   "metadata": {},
   "outputs": [
    {
     "name": "stdout",
     "output_type": "stream",
     "text": [
      "['a', 'a', 'b', 'b']\n"
     ]
    }
   ],
   "source": [
    "# Allow duplicates\n",
    "b = ['a','a','b','b']\n",
    "print(b)"
   ]
  },
  {
   "cell_type": "code",
   "execution_count": 67,
   "metadata": {},
   "outputs": [
    {
     "name": "stdout",
     "output_type": "stream",
     "text": [
      "['apple', 11, 'ram', 21, 0.213, True, -12]\n"
     ]
    }
   ],
   "source": [
    "# data type\n",
    "list = ['apple',11,'ram',21,0.213,True,-12]\n",
    "print(list)"
   ]
  },
  {
   "cell_type": "code",
   "execution_count": 68,
   "metadata": {},
   "outputs": [
    {
     "name": "stdout",
     "output_type": "stream",
     "text": [
      "7\n"
     ]
    }
   ],
   "source": [
    "# length of list\n",
    "print(len(list))"
   ]
  },
  {
   "cell_type": "code",
   "execution_count": 69,
   "metadata": {},
   "outputs": [
    {
     "name": "stdout",
     "output_type": "stream",
     "text": [
      "-12\n"
     ]
    }
   ],
   "source": [
    "# access items\n",
    "list = ['apple',11,'ram',21,0.213,True,-12]\n",
    "print(list[6])"
   ]
  },
  {
   "cell_type": "code",
   "execution_count": 70,
   "metadata": {},
   "outputs": [
    {
     "name": "stdout",
     "output_type": "stream",
     "text": [
      "['ram', 0.213]\n"
     ]
    }
   ],
   "source": [
    "# slicing the list\n",
    "print(list[2:6:2])"
   ]
  },
  {
   "cell_type": "code",
   "execution_count": 71,
   "metadata": {},
   "outputs": [
    {
     "name": "stdout",
     "output_type": "stream",
     "text": [
      "['apple', 'queen', 'ram', 'Vikas', 'Ram', True, -12]\n"
     ]
    }
   ],
   "source": [
    "# change items\n",
    "list = ['apple',11,'ram',21,0.213,True,-12]\n",
    "list[1]= 'queen'\n",
    "list[4]= 'Ram'\n",
    "list[3]= 'Vikas'\n",
    "\n",
    "print(list)"
   ]
  },
  {
   "cell_type": "code",
   "execution_count": 72,
   "metadata": {},
   "outputs": [
    {
     "name": "stdout",
     "output_type": "stream",
     "text": [
      "['apple', 100, 200, 21, 0.213, True, -12]\n"
     ]
    }
   ],
   "source": [
    "# change a range of item values\n",
    "list = ['apple',11,'ram',21,0.213,True,-12]\n",
    "\n",
    "list[1:3] = [100,200]\n",
    "\n",
    "print(list)"
   ]
  },
  {
   "cell_type": "code",
   "execution_count": 73,
   "metadata": {},
   "outputs": [
    {
     "name": "stdout",
     "output_type": "stream",
     "text": [
      "[1, 2, 3, 4, 5, 6]\n"
     ]
    }
   ],
   "source": [
    "# add a values in a list\n",
    "\n",
    "list = [1, 2, 3, 4, 5]\n",
    "\n",
    "list.append(6)\n",
    "\n",
    "print(list)"
   ]
  },
  {
   "cell_type": "code",
   "execution_count": 74,
   "metadata": {},
   "outputs": [
    {
     "name": "stdout",
     "output_type": "stream",
     "text": [
      "[1, 2, 3, 4, 6, 7, 8, 9]\n"
     ]
    }
   ],
   "source": [
    "# REMOVE A ITEM IN A LIST\n",
    "\n",
    "list = [1,2,3,4,5,6,7,8,9]\n",
    "\n",
    "list.remove(5)\n",
    "\n",
    "\n",
    "print(list)"
   ]
  },
  {
   "cell_type": "code",
   "execution_count": 75,
   "metadata": {},
   "outputs": [
    {
     "data": {
      "text/plain": [
       "[9, 8, 7, 6, 5, 4, 3, 2, 1]"
      ]
     },
     "execution_count": 75,
     "metadata": {},
     "output_type": "execute_result"
    }
   ],
   "source": [
    "# REVERSE A LIST \n",
    "list = [1,2,3,4,5,6,7,8,9]\n",
    "\n",
    "list.reverse()\n",
    "list"
   ]
  },
  {
   "cell_type": "code",
   "execution_count": 76,
   "metadata": {},
   "outputs": [
    {
     "name": "stdout",
     "output_type": "stream",
     "text": [
      "13\n",
      "The sum of a list is 475\n"
     ]
    }
   ],
   "source": [
    "# Sum of all numbers in a list \n",
    "l = [14,15,12,78,-9,23,-8,52,74,89,25,102,8]\n",
    "print(len(l))\n",
    "\n",
    "a = 0\n",
    "for i in range(13):\n",
    "    a = a + l[i]\n",
    "    i = i+2\n",
    "print(\"The sum of a list is\",a)"
   ]
  },
  {
   "cell_type": "code",
   "execution_count": 77,
   "metadata": {},
   "outputs": [
    {
     "name": "stdout",
     "output_type": "stream",
     "text": [
      "10\n"
     ]
    }
   ],
   "source": [
    "# multiply all the numbers in a list \n",
    "a = [1,2,3,4,5,6,7,8,9,10]\n",
    "print(len(a))\n"
   ]
  },
  {
   "cell_type": "markdown",
   "metadata": {},
   "source": [
    "# Day - 9"
   ]
  },
  {
   "cell_type": "code",
   "execution_count": 78,
   "metadata": {},
   "outputs": [
    {
     "name": "stdout",
     "output_type": "stream",
     "text": [
      "(1, 2, 3)\n",
      "<class 'tuple'>\n"
     ]
    }
   ],
   "source": [
    "# Creating a tuple\n",
    "my_tuple = (1,2,3)\n",
    "print(my_tuple)\n",
    "print(type(my_tuple))"
   ]
  },
  {
   "cell_type": "code",
   "execution_count": 79,
   "metadata": {},
   "outputs": [
    {
     "name": "stdout",
     "output_type": "stream",
     "text": [
      "(1, 'hello', 3.2, (4+5j))\n",
      "<class 'tuple'>\n"
     ]
    }
   ],
   "source": [
    "# Mixed tuple\n",
    "my_tuple = (1,\"hello\", 3.2,4+5j)\n",
    "print(my_tuple)\n",
    "print(type(my_tuple))"
   ]
  },
  {
   "cell_type": "code",
   "execution_count": 80,
   "metadata": {},
   "outputs": [
    {
     "name": "stdout",
     "output_type": "stream",
     "text": [
      "()\n",
      "<class 'tuple'>\n"
     ]
    }
   ],
   "source": [
    "#empty tuple\n",
    "my_tuple = ()\n",
    "print(my_tuple)\n",
    "print(type(my_tuple))"
   ]
  },
  {
   "cell_type": "code",
   "execution_count": 81,
   "metadata": {},
   "outputs": [
    {
     "name": "stdout",
     "output_type": "stream",
     "text": [
      "('data', [1, 3, 4], {4, 5, 6})\n",
      "<class 'tuple'>\n"
     ]
    }
   ],
   "source": [
    "# nested tuple\n",
    "\n",
    "a = ('data', [1,3,4],{4,5,6})\n",
    "print(a)\n",
    "print(type(a))\n"
   ]
  },
  {
   "cell_type": "code",
   "execution_count": 82,
   "metadata": {},
   "outputs": [
    {
     "name": "stdout",
     "output_type": "stream",
     "text": [
      "('hello',)\n",
      "<class 'tuple'>\n"
     ]
    }
   ],
   "source": [
    "# creating a tuple with only one variable\n",
    "var1 = ('hello',)\n",
    "print(var1)\n",
    "print(type(var1))  # this will show that it is now a tuple. "
   ]
  },
  {
   "cell_type": "code",
   "execution_count": 83,
   "metadata": {},
   "outputs": [
    {
     "name": "stdout",
     "output_type": "stream",
     "text": [
      "<class 'tuple'>\n",
      "('a', 'b', 'c')\n"
     ]
    }
   ],
   "source": [
    "# tuple construtor\n",
    "a = tuple(('a','b','c'))\n",
    "print(type(a))  # <class 'tuple'>\n",
    "print(a)"
   ]
  },
  {
   "cell_type": "code",
   "execution_count": 84,
   "metadata": {},
   "outputs": [
    {
     "name": "stdout",
     "output_type": "stream",
     "text": [
      "Original Tuple: (1, 2, 3, 45, 6, 74, 8, 9)\n",
      "74\n"
     ]
    }
   ],
   "source": [
    "# indexing a tuple\n",
    "a = (1,2,3,45,6,74,8,9)\n",
    "print(f\"Original Tuple: {a}\")\n",
    "print(a[5])"
   ]
  },
  {
   "cell_type": "code",
   "execution_count": 85,
   "metadata": {},
   "outputs": [
    {
     "name": "stdout",
     "output_type": "stream",
     "text": [
      "python\n",
      "10\n",
      "74\n"
     ]
    }
   ],
   "source": [
    "a = (1,2,3,45,6,74,8,9,'data','python')\n",
    "print(a[9])\n",
    "print(len(a))\n",
    "\n",
    "print(a[5])"
   ]
  },
  {
   "cell_type": "code",
   "execution_count": 86,
   "metadata": {},
   "outputs": [
    {
     "name": "stdout",
     "output_type": "stream",
     "text": [
      "(1, 2, 3, 45, 6, 74)\n",
      "(45, 6, 74, 8, 9)\n",
      "(1,)\n"
     ]
    }
   ],
   "source": [
    "a = (1,2,3,45,6,74,8,9)\n",
    "print(a[0:6])\n",
    "print(a[3:8])\n",
    "print(a[0:2:8])"
   ]
  },
  {
   "cell_type": "code",
   "execution_count": 87,
   "metadata": {},
   "outputs": [
    {
     "name": "stdout",
     "output_type": "stream",
     "text": [
      "(9, 8, 74, 6, 45, 3, 2, 1)\n"
     ]
    }
   ],
   "source": [
    "# reverse tuple\n",
    "a = (1,2,3,45,6,74,8,9)\n",
    "print(a[::-1])"
   ]
  },
  {
   "cell_type": "code",
   "execution_count": 88,
   "metadata": {},
   "outputs": [
    {
     "name": "stdout",
     "output_type": "stream",
     "text": [
      "(1, 1, 1, 2, 2, 2, 3, 4, 5, 5, 6)\n"
     ]
    }
   ],
   "source": [
    "t = (1,1,1,2,2,2,3,4,5,5,6)\n",
    "print(t)"
   ]
  },
  {
   "cell_type": "code",
   "execution_count": 89,
   "metadata": {},
   "outputs": [
    {
     "ename": "TypeError",
     "evalue": "'list' object is not callable",
     "output_type": "error",
     "traceback": [
      "\u001b[1;31m---------------------------------------------------------------------------\u001b[0m",
      "\u001b[1;31mTypeError\u001b[0m                                 Traceback (most recent call last)",
      "Cell \u001b[1;32mIn[89], line 2\u001b[0m\n\u001b[0;32m      1\u001b[0m t \u001b[38;5;241m=\u001b[39m (\u001b[38;5;241m1\u001b[39m,\u001b[38;5;241m1\u001b[39m,\u001b[38;5;241m1\u001b[39m,\u001b[38;5;241m2\u001b[39m,\u001b[38;5;241m2\u001b[39m,\u001b[38;5;241m2\u001b[39m,\u001b[38;5;241m3\u001b[39m,\u001b[38;5;241m4\u001b[39m,\u001b[38;5;241m5\u001b[39m,\u001b[38;5;241m5\u001b[39m,\u001b[38;5;241m6\u001b[39m)\n\u001b[1;32m----> 2\u001b[0m y \u001b[38;5;241m=\u001b[39m \u001b[38;5;28;43mlist\u001b[39;49m\u001b[43m(\u001b[49m\u001b[43mt\u001b[49m\u001b[43m)\u001b[49m\n\u001b[0;32m      3\u001b[0m y\u001b[38;5;241m.\u001b[39mappend(\u001b[38;5;241m6373\u001b[39m)\n\u001b[0;32m      4\u001b[0m a \u001b[38;5;241m=\u001b[39m \u001b[38;5;28mtuple\u001b[39m(y)\n",
      "\u001b[1;31mTypeError\u001b[0m: 'list' object is not callable"
     ]
    }
   ],
   "source": [
    "t = (1,1,1,2,2,2,3,4,5,5,6)\n",
    "y = list(t)\n",
    "y.append(6373)\n",
    "a = tuple(y)\n",
    "print(a)"
   ]
  },
  {
   "cell_type": "code",
   "execution_count": null,
   "metadata": {},
   "outputs": [
    {
     "name": "stdout",
     "output_type": "stream",
     "text": [
      "a\n",
      "b\n",
      "c\n"
     ]
    }
   ],
   "source": [
    "# loops in tuple\n",
    "thistuple = ('a','b','c')\n",
    "for x in thistuple:\n",
    "    print(x)"
   ]
  },
  {
   "cell_type": "code",
   "execution_count": null,
   "metadata": {},
   "outputs": [
    {
     "name": "stdout",
     "output_type": "stream",
     "text": [
      "('a', 'b', 'c', 1, 2, 3)\n"
     ]
    }
   ],
   "source": [
    "# join two tuple\n",
    "t1 = ('a','b','c')\n",
    "t2 = (1,2,3)\n",
    "t3 = t1+t2\n",
    "print(t3)"
   ]
  },
  {
   "cell_type": "code",
   "execution_count": null,
   "metadata": {},
   "outputs": [
    {
     "name": "stdout",
     "output_type": "stream",
     "text": [
      "('a', 'b', 'c', 'a', 'b', 'c', 'a', 'b', 'c', 'a', 'b', 'c', 'a', 'b', 'c')\n"
     ]
    }
   ],
   "source": [
    "# multiply tuple\n",
    "t1 = ('a','b','c')\n",
    "b = t1*5\n",
    "print(b)\n"
   ]
  },
  {
   "cell_type": "code",
   "execution_count": null,
   "metadata": {},
   "outputs": [
    {
     "name": "stdout",
     "output_type": "stream",
     "text": [
      "(10,)\n",
      "(10, 20)\n",
      "(10, 20, 30)\n",
      "(10, 20, 30, 40)\n",
      "(10, 20, 30, 40, 50)\n",
      "(10, 20, 30, 40, 50, 60)\n"
     ]
    }
   ],
   "source": [
    "t = ()\n",
    "i = 0\n",
    "while i<=5:\n",
    "    num = int(input(\"enter the values please:\"))\n",
    "    t = t+(num,)\n",
    "    i = i+1\n",
    "    print(t)"
   ]
  },
  {
   "cell_type": "markdown",
   "metadata": {},
   "source": [
    " # Day - 10\n",
    "\n",
    " ## Dictonery in python"
   ]
  },
  {
   "cell_type": "code",
   "execution_count": null,
   "metadata": {},
   "outputs": [
    {
     "name": "stdout",
     "output_type": "stream",
     "text": [
      "{'10': '123ab', 'color': 'black', 'year': 1964}\n",
      "<class 'dict'>\n"
     ]
    }
   ],
   "source": [
    "# Creating a dictonery\n",
    "a = {\n",
    "    '10':\"123ab\",\n",
    "    'color':'black',\n",
    "    'year':1964\n",
    "}\n",
    "print(a)\n",
    "print(type(a))"
   ]
  },
  {
   "cell_type": "code",
   "execution_count": null,
   "metadata": {},
   "outputs": [
    {
     "name": "stdout",
     "output_type": "stream",
     "text": [
      "black\n"
     ]
    }
   ],
   "source": [
    "a = {\n",
    "    '10':\"123ab\",\n",
    "    'color':'black',\n",
    "    'year':1964\n",
    "}\n",
    "print(a['color'])\n",
    "print()"
   ]
  },
  {
   "cell_type": "code",
   "execution_count": null,
   "metadata": {},
   "outputs": [
    {
     "name": "stdout",
     "output_type": "stream",
     "text": [
      "{'10': '123ab', 'color': 'black', 'year': 3000}\n"
     ]
    }
   ],
   "source": [
    "a = {\n",
    "    '10':\"123ab\",\n",
    "    'color':'black',\n",
    "    'year':1964,\n",
    "    'year':3000\n",
    "}\n",
    "print(a)"
   ]
  },
  {
   "cell_type": "code",
   "execution_count": null,
   "metadata": {},
   "outputs": [
    {
     "name": "stdout",
     "output_type": "stream",
     "text": [
      "3\n"
     ]
    }
   ],
   "source": [
    "# dictonery lenght\n",
    "a = {\n",
    "    '10':\"123ab\",\n",
    "    'color':'black',\n",
    "    'year':1964\n",
    "}\n",
    "print(len(a))"
   ]
  },
  {
   "cell_type": "code",
   "execution_count": null,
   "metadata": {},
   "outputs": [
    {
     "name": "stdout",
     "output_type": "stream",
     "text": [
      "{'10': '123ab', 'color': 'black', 'year': 1964, 'a': [1, 2, 3, 4, 5], 'b': (2.2, 4, 5.4), 'c': False}\n"
     ]
    }
   ],
   "source": [
    "b = a = {\n",
    "    '10':\"123ab\",\n",
    "    'color':'black',\n",
    "    'year':1964,\n",
    "    'a':[1,2,3,4,5],\n",
    "    'b':(2.2,4,5.4),\n",
    "    'c':False\n",
    "}\n",
    "print(b)"
   ]
  },
  {
   "cell_type": "code",
   "execution_count": null,
   "metadata": {},
   "outputs": [
    {
     "name": "stdout",
     "output_type": "stream",
     "text": [
      "{'name': 'vikas', 'age': 26, 'country': 'India'}\n",
      "26\n"
     ]
    }
   ],
   "source": [
    "a = dict(name = 'vikas',age = 26,country = 'India')\n",
    "print(a)\n",
    "print(a['age'])"
   ]
  },
  {
   "cell_type": "code",
   "execution_count": null,
   "metadata": {},
   "outputs": [
    {
     "name": "stdout",
     "output_type": "stream",
     "text": [
      "vikas\n"
     ]
    }
   ],
   "source": [
    "a = dict(name = 'vikas',age = 26,country = 'India')\n",
    "print(a.get('name'))"
   ]
  },
  {
   "cell_type": "code",
   "execution_count": null,
   "metadata": {},
   "outputs": [
    {
     "data": {
      "text/plain": [
       "{'name': 'vikas', 'age': 40, 'country': 'India'}"
      ]
     },
     "execution_count": 42,
     "metadata": {},
     "output_type": "execute_result"
    }
   ],
   "source": [
    "a = dict(name = 'vikas',age = 26,country = 'India')\n",
    "a['age']= 40\n",
    "a"
   ]
  },
  {
   "cell_type": "code",
   "execution_count": null,
   "metadata": {},
   "outputs": [
    {
     "data": {
      "text/plain": [
       "dict_values(['vikas', 26, 'India'])"
      ]
     },
     "execution_count": 41,
     "metadata": {},
     "output_type": "execute_result"
    }
   ],
   "source": [
    "a = dict(name = 'vikas',age = 26,country = 'India')\n",
    "x = a.keys()\n",
    "y = a.values()\n",
    "x\n",
    "y"
   ]
  },
  {
   "cell_type": "code",
   "execution_count": null,
   "metadata": {},
   "outputs": [
    {
     "data": {
      "text/plain": [
       "type"
      ]
     },
     "execution_count": 49,
     "metadata": {},
     "output_type": "execute_result"
    }
   ],
   "source": [
    "a = dict(name = 'vikas',age = 26,country = 'India')\n",
    "a.clear()\n",
    "\n",
    "a\n",
    "type"
   ]
  },
  {
   "cell_type": "code",
   "execution_count": null,
   "metadata": {},
   "outputs": [
    {
     "name": "stdout",
     "output_type": "stream",
     "text": [
      "{1: 10, 2: 20, 3: 30, 4: 40, 5: 50, 6: 60}\n"
     ]
    }
   ],
   "source": [
    "dict1 = {1:10,2:20}\n",
    "dict2 = {3:30,4:40}\n",
    "dict3 = {5:50,6:60}\n",
    "dict4 = {}\n",
    "for d in (dict1,dict2,dict3):dict4.update(d)\n",
    "print(dict4)"
   ]
  },
  {
   "cell_type": "code",
   "execution_count": null,
   "metadata": {},
   "outputs": [],
   "source": [
    "d = dict()\n",
    "for x in range(1,16):\n",
    "    d[x] = x**2\n",
    "    "
   ]
  },
  {
   "cell_type": "markdown",
   "metadata": {},
   "source": [
    "# Day - 11  SETS"
   ]
  },
  {
   "cell_type": "code",
   "execution_count": null,
   "metadata": {},
   "outputs": [
    {
     "name": "stdout",
     "output_type": "stream",
     "text": [
      "key is present in the dictonery\n",
      "key is not present in the dictonery\n"
     ]
    }
   ],
   "source": [
    "dict1 = {1:10,2:20,3:30,4:40,5:50,6:60}\n",
    "def is_key_present(x):\n",
    "    if x in dict1:\n",
    "        print('key is present in the dictonery')\n",
    "    else:\n",
    "        print('key is not present in the dictonery')\n",
    "is_key_present(2)\n",
    "is_key_present(9)"
   ]
  },
  {
   "cell_type": "code",
   "execution_count": null,
   "metadata": {},
   "outputs": [
    {
     "name": "stdout",
     "output_type": "stream",
     "text": [
      "{'cat', 'ball', 'animal'}\n",
      "<class 'set'>\n"
     ]
    }
   ],
   "source": [
    "# creating a set\n",
    "\n",
    "a  = {'animal','ball','cat'}\n",
    "print(a)\n",
    "print(type(a))"
   ]
  },
  {
   "cell_type": "code",
   "execution_count": null,
   "metadata": {},
   "outputs": [
    {
     "name": "stdout",
     "output_type": "stream",
     "text": [
      "{'cat', 'ball', 'animal'}\n"
     ]
    }
   ],
   "source": [
    "# set items are unordered\n",
    "a = {'animal','ball','cat'}\n",
    "print(a)\n"
   ]
  },
  {
   "cell_type": "code",
   "execution_count": null,
   "metadata": {},
   "outputs": [
    {
     "name": "stdout",
     "output_type": "stream",
     "text": [
      "{'cat', 'ball', 'animal'}\n"
     ]
    }
   ],
   "source": [
    "# duplicates are not allowed in the set\n",
    "a = {'animal','ball','cat','ball','cat','animal'}\n",
    "print(a)"
   ]
  },
  {
   "cell_type": "code",
   "execution_count": null,
   "metadata": {},
   "outputs": [
    {
     "name": "stdout",
     "output_type": "stream",
     "text": [
      "8\n"
     ]
    },
    {
     "data": {
      "text/plain": [
       "{1, 2, 3, 4, 'True', 'animal', 'ball', 'cat'}"
      ]
     },
     "execution_count": 10,
     "metadata": {},
     "output_type": "execute_result"
    }
   ],
   "source": [
    "#  True and 1 considered the same value\n",
    "a = {'animal','ball','cat','ball','cat','animal',1,1,2,3,4,'True'}\n",
    "print(len(a))\n",
    "a\n"
   ]
  },
  {
   "cell_type": "code",
   "execution_count": null,
   "metadata": {},
   "outputs": [
    {
     "name": "stdout",
     "output_type": "stream",
     "text": [
      "{1, 2, 3, 4} {1.2, 2, 3, 1} {'b', 'c', 'a'} {False, True}\n"
     ]
    }
   ],
   "source": [
    "# set items-- Data Types\n",
    "x1 = {1,2,3,4}\n",
    "x2 = {1.2,1.2,1,2,3}\n",
    "x3 = {'a','b','c'}\n",
    "x4 = {True,False}\n",
    "print(x1,x2,x3,x4)"
   ]
  },
  {
   "cell_type": "code",
   "execution_count": null,
   "metadata": {},
   "outputs": [
    {
     "data": {
      "text/plain": [
       "{(1, 2, 3, 4, 5)}"
      ]
     },
     "execution_count": 13,
     "metadata": {},
     "output_type": "execute_result"
    }
   ],
   "source": [
    "x5 = {(1,2,3,4,5)}\n",
    "x5"
   ]
  },
  {
   "cell_type": "code",
   "execution_count": null,
   "metadata": {},
   "outputs": [
    {
     "name": "stdout",
     "output_type": "stream",
     "text": [
      "{'vikas', 'ram'}\n",
      "<class 'set'>\n"
     ]
    }
   ],
   "source": [
    "# set constructer\n",
    "a = set({'vikas','ram'})\n",
    "print(a)\n",
    "print(type(a))"
   ]
  },
  {
   "cell_type": "code",
   "execution_count": null,
   "metadata": {},
   "outputs": [
    {
     "name": "stdout",
     "output_type": "stream",
     "text": [
      "<class 'set'>\n"
     ]
    }
   ],
   "source": [
    "a = set()\n",
    "print(type(a))"
   ]
  },
  {
   "cell_type": "code",
   "execution_count": null,
   "metadata": {},
   "outputs": [
    {
     "name": "stdout",
     "output_type": "stream",
     "text": [
      "1\n",
      "2\n",
      "3\n",
      "4\n",
      "cat\n",
      "ball\n",
      "True\n",
      "animal\n"
     ]
    }
   ],
   "source": [
    "# Access Items\n",
    "a = {'animal','ball','cat','ball','cat','animal',1,1,2,3,4,'True'}\n",
    "for x in a:\n",
    "    print(x)"
   ]
  },
  {
   "cell_type": "code",
   "execution_count": null,
   "metadata": {},
   "outputs": [
    {
     "name": "stdout",
     "output_type": "stream",
     "text": [
      "True\n"
     ]
    }
   ],
   "source": [
    "# chesk if item present in the set\n",
    "# check if the item in the set\n",
    "print('animal' in a)"
   ]
  },
  {
   "cell_type": "code",
   "execution_count": null,
   "metadata": {},
   "outputs": [
    {
     "name": "stdout",
     "output_type": "stream",
     "text": [
      "False\n"
     ]
    }
   ],
   "source": [
    "print(12 in a)"
   ]
  },
  {
   "cell_type": "code",
   "execution_count": null,
   "metadata": {},
   "outputs": [
    {
     "name": "stdout",
     "output_type": "stream",
     "text": [
      "{1, 2, 3, 4, 'cat', 'ball', 'True', 122, 'animal'}\n"
     ]
    }
   ],
   "source": [
    "# add item in the set\n",
    "a = {'animal','ball','cat','ball','cat','animal',1,1,2,3,4,'True'}\n",
    "a.add(122)\n",
    "print(a)"
   ]
  },
  {
   "cell_type": "code",
   "execution_count": null,
   "metadata": {},
   "outputs": [
    {
     "name": "stdout",
     "output_type": "stream",
     "text": [
      "{1, 2, 3, 4, 'cat', 'ball', 'True', 'animal', (1, 2, 3, 4, 5)}\n"
     ]
    }
   ],
   "source": [
    "# update item in a set\n",
    "a = {'animal','ball','cat','ball','cat','animal',1,1,2,3,4,'True'}\n",
    "x5 = {(1,2,3,4,5)}\n",
    "a.update(x5)\n",
    "print(a)"
   ]
  },
  {
   "cell_type": "code",
   "execution_count": null,
   "metadata": {},
   "outputs": [
    {
     "name": "stdout",
     "output_type": "stream",
     "text": [
      "{1, 2, 3, 4, 'cat', 'True', 'animal'}\n"
     ]
    }
   ],
   "source": [
    "# remove item from the set\n",
    "a = {'animal','ball','cat','ball','cat','animal',1,1,2,3,4,'True'}\n",
    "a.remove('ball')\n",
    "print(a)"
   ]
  },
  {
   "cell_type": "code",
   "execution_count": null,
   "metadata": {},
   "outputs": [
    {
     "name": "stdout",
     "output_type": "stream",
     "text": [
      "set()\n"
     ]
    }
   ],
   "source": [
    "# clear, pop function\n",
    "a = {'animal','ball','cat','ball','cat','animal',1,1,2,3,4,'True'}\n",
    "a.pop()\n",
    "a.clear()\n",
    "print(a)\n"
   ]
  },
  {
   "cell_type": "code",
   "execution_count": null,
   "metadata": {},
   "outputs": [],
   "source": [
    "# delete set\n",
    "a = {'animal','ball','cat','ball','cat','animal',1,1,2,3,4,'True'}\n",
    "del a "
   ]
  },
  {
   "cell_type": "code",
   "execution_count": null,
   "metadata": {},
   "outputs": [
    {
     "name": "stdout",
     "output_type": "stream",
     "text": [
      "{1, 2, 3, 4, 1.2}\n"
     ]
    }
   ],
   "source": [
    "# join two sets\n",
    "x1 = {1,2,3,4}\n",
    "x2 = {1.2,1.2,1,2,3}\n",
    "z = x1.union(x2)\n",
    "print(z)"
   ]
  },
  {
   "cell_type": "code",
   "execution_count": 90,
   "metadata": {},
   "outputs": [
    {
     "name": "stdout",
     "output_type": "stream",
     "text": [
      "Original set elements\n",
      "{2, 3, 20, 5, 10, 15}\n",
      "max values of the set\n",
      "20\n",
      "minimum values of the set\n",
      "2\n"
     ]
    }
   ],
   "source": [
    "# write a python program to  find the max and min values\n",
    "x = {5,10,3,15,2,20} \n",
    "print(\"Original set elements\")\n",
    "print(x)\n",
    "print(\"max values of the set\")\n",
    "print(max(x))\n",
    "print('minimum values of the set')\n",
    "print(min(x))"
   ]
  },
  {
   "cell_type": "code",
   "execution_count": 91,
   "metadata": {},
   "outputs": [
    {
     "name": "stdout",
     "output_type": "stream",
     "text": [
      "{40, 50, 30}\n"
     ]
    }
   ],
   "source": [
    "# return a new set of identical items from the set\n",
    "set1 = {10,20,30,40,50}\n",
    "set2 = {30,40,50,60,80}\n",
    "print(set1.intersection(set2))"
   ]
  },
  {
   "cell_type": "code",
   "execution_count": 95,
   "metadata": {},
   "outputs": [
    {
     "name": "stdout",
     "output_type": "stream",
     "text": [
      "10\n",
      "100\n",
      "10\n"
     ]
    }
   ],
   "source": [
    "a = {10,20,30,40,50,60,70,80,90,100}\n",
    "print(len(a))\n",
    "print(max(a))\n",
    "print(min(a))\n"
   ]
  }
 ],
 "metadata": {
  "kernelspec": {
   "display_name": "Python 3",
   "language": "python",
   "name": "python3"
  },
  "language_info": {
   "codemirror_mode": {
    "name": "ipython",
    "version": 3
   },
   "file_extension": ".py",
   "mimetype": "text/x-python",
   "name": "python",
   "nbconvert_exporter": "python",
   "pygments_lexer": "ipython3",
   "version": "3.12.2"
  }
 },
 "nbformat": 4,
 "nbformat_minor": 2
}
